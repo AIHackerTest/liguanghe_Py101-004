{
 "cells": [
  {
   "cell_type": "markdown",
   "metadata": {},
   "source": [
    "## Basic points in GuessNumberGame.py\n",
    "\n",
    "[4. More Control Flow Tools — Python 3.5.4 documentation](https://docs.python.org/3.5/tutorial/controlflow.html)"
   ]
  },
  {
   "cell_type": "code",
   "execution_count": 1,
   "metadata": {
    "collapsed": false
   },
   "outputs": [
    {
     "name": "stdout",
     "output_type": "stream",
     "text": [
      "\n",
      "       game rules:\n",
      "       We will choose a random integer less than 20, \n",
      "       you have 10 times to guess,\n",
      "       the less time, the better~\n",
      "       \n",
      ">>10\n",
      "more than the right number\n",
      ">>5\n",
      "Correct! Fantastic! see you!\n",
      "the correct number is 5\n"
     ]
    }
   ],
   "source": [
    "'''add introduciton'''\n",
    "'''get a random number betwen 0 to 19'''\n",
    "import random\n",
    "right_number = random.randint(0,20)\n",
    "\n",
    "# google'python 生成随机数', get random, google' python random' get MVP\n",
    "\n",
    "''' print introduction'''\n",
    "print ('''\n",
    "       game rules:\n",
    "       We will choose a random integer less than 20, \n",
    "       you have 10 times to guess,\n",
    "       the less time, the better~\n",
    "       ''')\n",
    "\n",
    "'''10 times loop'''\n",
    "for i in range(0,10):\n",
    "\n",
    "    '''input'''\n",
    "    guess_number = int(input('>>'))    \n",
    "    '''choice'''    \n",
    "    if guess_number < right_number:\n",
    "        print (\"less than the right number\" )\n",
    "    elif 20 > guess_number > right_number:\n",
    "        print (\"more than the right number\" )\n",
    "    elif guess_number > 20:\n",
    "        print ('please input a integer less than 20')\n",
    "    else:\n",
    "        print ('Correct! Fantastic! see you!')\n",
    "        break\n",
    "print ('the correct number is %d'%right_number)"
   ]
  },
  {
   "cell_type": "markdown",
   "metadata": {},
   "source": [
    "### points\n",
    "- \\> = <\n",
    "- string\n",
    "- print\n",
    "- varible\n",
    "- if elif else \n",
    "- tab\n",
    "- import\n",
    "- for i in range():"
   ]
  },
  {
   "cell_type": "markdown",
   "metadata": {},
   "source": [
    "### for\n",
    "\n",
    "- I don't understand for i in range(10):\n",
    "- After reading peer's code, I know it function is run a part of script for 10 times. \n",
    "- why and how?\n"
   ]
  },
  {
   "cell_type": "markdown",
   "metadata": {},
   "source": [
    "e.g.:\n",
    "    "
   ]
  },
  {
   "cell_type": "code",
   "execution_count": 5,
   "metadata": {
    "collapsed": false
   },
   "outputs": [
    {
     "name": "stdout",
     "output_type": "stream",
     "text": [
      "a 1\n",
      "u 1\n",
      "eu 2\n",
      "au 2\n"
     ]
    }
   ],
   "source": [
    "# 把列表里的内容逐一处理.\n",
    "words = ['a','u','eu','au']\n",
    "for w in words:\n",
    "    print (w, len(w))"
   ]
  },
  {
   "cell_type": "code",
   "execution_count": 7,
   "metadata": {
    "collapsed": false
   },
   "outputs": [
    {
     "name": "stdout",
     "output_type": "stream",
     "text": [
      "0\n",
      "1\n",
      "2\n",
      "3\n",
      "4\n"
     ]
    }
   ],
   "source": [
    "for i in range(5):\n",
    "    print(i)"
   ]
  },
  {
   "cell_type": "code",
   "execution_count": 1,
   "metadata": {
    "collapsed": false
   },
   "outputs": [
    {
     "name": "stdout",
     "output_type": "stream",
     "text": [
      "3\n",
      "4\n",
      "5\n",
      "6\n",
      "7\n",
      "8\n",
      "8\n",
      "9\n",
      "9\n",
      "10\n"
     ]
    }
   ],
   "source": [
    "# run script next five times. \n",
    "for i in range(5):\n",
    "    a = int(input())\n",
    "    b = a + 1\n",
    "    print (b)"
   ]
  },
  {
   "cell_type": "code",
   "execution_count": 2,
   "metadata": {
    "collapsed": false
   },
   "outputs": [
    {
     "data": {
      "text/plain": [
       "range(5, 10)"
      ]
     },
     "execution_count": 2,
     "metadata": {},
     "output_type": "execute_result"
    }
   ],
   "source": [
    "range(5,10)"
   ]
  },
  {
   "cell_type": "code",
   "execution_count": 4,
   "metadata": {
    "collapsed": false
   },
   "outputs": [
    {
     "name": "stdout",
     "output_type": "stream",
     "text": [
      "\n",
      "       game rules:\n",
      "       We will choose a random integer less than 20, \n",
      "       you have 10 times to guess,\n",
      "       the less time, the better~\n",
      "       \n",
      ">>10\n",
      "0 less than the right number\n",
      ">>15\n",
      "1 more than the right number\n",
      ">>13\n",
      "2 more than the right number\n",
      ">>14\n",
      "3 more than the right number\n",
      ">>12\n",
      "4 more than the right number\n",
      ">>11\n",
      "5 Correct! Fantastic! see you!\n",
      "the correct number is 11\n"
     ]
    }
   ],
   "source": [
    "'''add introduciton'''\n",
    "'''get a random number betwen 0 to 19'''\n",
    "import random\n",
    "right_number = random.randint(0,20)\n",
    "\n",
    "# google'python 生成随机数', get random, google' python random' get MVP\n",
    "\n",
    "''' print introduction'''\n",
    "print ('''\n",
    "       game rules:\n",
    "       We will choose a random integer less than 20, \n",
    "       you have 10 times to guess,\n",
    "       the less time, the better~\n",
    "       ''')\n",
    "\n",
    "'''10 times loop'''\n",
    "for i in range(0,10):\n",
    "\n",
    "    '''input'''\n",
    "    guess_number = int(input('>>'))    \n",
    "    '''choice'''    \n",
    "    if guess_number < right_number:\n",
    "        print (i,\"less than the right number\" )\n",
    "    elif 20 > guess_number > right_number:\n",
    "        print (i,\"more than the right number\" )\n",
    "    elif guess_number > 20:\n",
    "        print (i,'please input a integer less than 20')\n",
    "    else:\n",
    "        print (i,'Correct! Fantastic! see you!')\n",
    "        break\n",
    "print ('the correct number is %d'%right_number)"
   ]
  },
  {
   "cell_type": "code",
   "execution_count": null,
   "metadata": {
    "collapsed": true
   },
   "outputs": [],
   "source": []
  }
 ],
 "metadata": {
  "anaconda-cloud": {},
  "kernelspec": {
   "display_name": "Python [conda root]",
   "language": "python",
   "name": "conda-root-py"
  },
  "language_info": {
   "codemirror_mode": {
    "name": "ipython",
    "version": 3
   },
   "file_extension": ".py",
   "mimetype": "text/x-python",
   "name": "python",
   "nbconvert_exporter": "python",
   "pygments_lexer": "ipython3",
   "version": "3.5.2"
  }
 },
 "nbformat": 4,
 "nbformat_minor": 1
}
