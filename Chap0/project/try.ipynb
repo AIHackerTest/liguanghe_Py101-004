{
 "cells": [
  {
   "cell_type": "code",
   "execution_count": null,
   "metadata": {
    "collapsed": true
   },
   "outputs": [],
   "source": [
    "\n",
    "'''\n",
    "随机生成一个 20 以内的数字，\n",
    "用户输入\n",
    "根据用户输入，给予提示（大了、小了、正确）\n",
    "猜对或用完 10 次机会，游戏结束\n",
    "'''\n",
    "print (\"Game guess your Integer, it's less than 20\" )"
   ]
  },
  {
   "cell_type": "code",
   "execution_count": 8,
   "metadata": {
    "collapsed": false
   },
   "outputs": [
    {
     "name": "stdout",
     "output_type": "stream",
     "text": [
      "15\n",
      "more\n"
     ]
    }
   ],
   "source": [
    "'''get a random number betwen 0 to 19'''\n",
    "import random\n",
    "\n",
    "right_number = random.randint(0,20)\n",
    "# google'python 生成随机数', get random, google' python random' get MVP\n"
   ]
  },
  {
   "cell_type": "code",
   "execution_count": 5,
   "metadata": {
    "collapsed": false
   },
   "outputs": [
    {
     "name": "stdout",
     "output_type": "stream",
     "text": [
      "12\n"
     ]
    }
   ],
   "source": [
    "'''input'''\n",
    "guess_number = int(input())    "
   ]
  },
  {
   "cell_type": "code",
   "execution_count": 7,
   "metadata": {
    "collapsed": false
   },
   "outputs": [
    {
     "ename": "NameError",
     "evalue": "name 'guess_number' is not defined",
     "output_type": "error",
     "traceback": [
      "\u001b[0;31m---------------------------------------------------------------------------\u001b[0m",
      "\u001b[0;31mNameError\u001b[0m                                 Traceback (most recent call last)",
      "\u001b[0;32m<ipython-input-7-9c50941ed525>\u001b[0m in \u001b[0;36m<module>\u001b[0;34m()\u001b[0m\n\u001b[1;32m      1\u001b[0m \u001b[0;34m'''choice'''\u001b[0m\u001b[0;34m\u001b[0m\u001b[0m\n\u001b[0;32m----> 2\u001b[0;31m \u001b[0;32mif\u001b[0m \u001b[0mguess_number\u001b[0m \u001b[0;34m<\u001b[0m \u001b[0mright_number\u001b[0m\u001b[0;34m:\u001b[0m\u001b[0;34m\u001b[0m\u001b[0m\n\u001b[0m\u001b[1;32m      3\u001b[0m     \u001b[0mprint\u001b[0m \u001b[0;34m(\u001b[0m\u001b[0;34m'less'\u001b[0m\u001b[0;34m)\u001b[0m\u001b[0;34m\u001b[0m\u001b[0m\n\u001b[1;32m      4\u001b[0m \u001b[0;32melif\u001b[0m \u001b[0mguess_number\u001b[0m \u001b[0;34m>\u001b[0m \u001b[0mright_number\u001b[0m\u001b[0;34m:\u001b[0m\u001b[0;34m\u001b[0m\u001b[0m\n\u001b[1;32m      5\u001b[0m     \u001b[0mprint\u001b[0m \u001b[0;34m(\u001b[0m\u001b[0;34m'more'\u001b[0m\u001b[0;34m)\u001b[0m\u001b[0;34m\u001b[0m\u001b[0m\n",
      "\u001b[0;31mNameError\u001b[0m: name 'guess_number' is not defined"
     ]
    }
   ],
   "source": [
    "'''choice'''    \n",
    "if guess_number < right_number:\n",
    "    print ('less')\n",
    "elif guess_number > right_number:\n",
    "    print ('more')\n",
    "elif guess_number > 20:\n",
    "    print ('please input a integer less than 20')\n",
    "else:\n",
    "    print ('Correct! Fantastic! see you!')"
   ]
  },
  {
   "cell_type": "code",
   "execution_count": 10,
   "metadata": {
    "collapsed": false
   },
   "outputs": [
    {
     "name": "stdout",
     "output_type": "stream",
     "text": [
      "3\n",
      "you guess\n",
      "3\n",
      "less than the right number\n"
     ]
    }
   ],
   "source": [
    "'''get a random number betwen 0 to 19'''\n",
    "import random\n",
    "\n",
    "right_number = random.randint(0,20)\n",
    "# google'python 生成随机数', get random, google' python random' get MVP\n",
    "\n",
    "'''input'''\n",
    "guess_number = int(input())    \n",
    "'''choice'''    \n",
    "\n",
    "if guess_number < right_number:\n",
    "    print (\"you guess\")\n",
    "    print (guess_number)\n",
    "    print (\"less than the right number\" )\n",
    "elif 20 > guess_number > right_number:\n",
    "    print (\"you guess\")\n",
    "    print (guess_number)\n",
    "    print (\"more than the right number\" )\n",
    "elif guess_number > 20:\n",
    "    print ('please input a integer less than 20')\n",
    "else:\n",
    "    print ('Correct! Fantastic! see you!')\n",
    "    quit()\n",
    "\n"
   ]
  },
  {
   "cell_type": "code",
   "execution_count": 8,
   "metadata": {
    "collapsed": false
   },
   "outputs": [
    {
     "name": "stdout",
     "output_type": "stream",
     "text": [
      "1\n",
      "you guess\n",
      "1\n",
      "less than the right number\n"
     ]
    },
    {
     "data": {
      "text/plain": [
       "' print what you have input'"
      ]
     },
     "execution_count": 8,
     "metadata": {},
     "output_type": "execute_result"
    }
   ],
   "source": [
    "'''get a random number betwen 0 to 19'''\n",
    "import random\n",
    "\n",
    "right_number = random.randint(0,20)\n",
    "# google'python 生成随机数', get random, google' python random' get MVP\n",
    "\n",
    "'''input'''\n",
    "guess_number = int(input())    \n",
    "'''choice'''  \n",
    "'''module'''\n",
    "def guess():\n",
    "    if guess_number < right_number:\n",
    "        print (\"you guess\")\n",
    "        print (guess_number)\n",
    "        print (\"less than the right number\" )\n",
    "    elif 20 > guess_number > right_number:\n",
    "        print (\"you guess\")\n",
    "        print (guess_number)\n",
    "        print (\"more than the right number\" )\n",
    "    elif guess_number > 20:\n",
    "        print ('please input a integer less than 20')\n",
    "    else:\n",
    "        print ('Correct! Fantastic! see you!')\n",
    "        quit()\n",
    "\n",
    "\n",
    "if __name__ == \"__main__\":\n",
    "    guess()\n",
    "''' 10 times guess'''\n",
    "''' have n times'''"
   ]
  },
  {
   "cell_type": "code",
   "execution_count": 9,
   "metadata": {
    "collapsed": false
   },
   "outputs": [
    {
     "name": "stdout",
     "output_type": "stream",
     "text": [
      "3\n",
      "you guess\n",
      "3\n",
      "less than the right number\n",
      "you guess\n",
      "3\n",
      "less than the right number\n",
      "you guess\n",
      "3\n",
      "less than the right number\n",
      "you guess\n",
      "3\n",
      "less than the right number\n",
      "you guess\n",
      "3\n",
      "less than the right number\n",
      "you guess\n",
      "3\n",
      "less than the right number\n",
      "you guess\n",
      "3\n",
      "less than the right number\n",
      "you guess\n",
      "3\n",
      "less than the right number\n",
      "you guess\n",
      "3\n",
      "less than the right number\n",
      "you guess\n",
      "3\n",
      "less than the right number\n",
      "you guess\n",
      "3\n",
      "less than the right number\n"
     ]
    }
   ],
   "source": [
    "\n",
    "'''get a random number betwen 0 to 19'''\n",
    "import random\n",
    "\n",
    "right_number = random.randint(0,20)\n",
    "# google'python 生成随机数', get random, google' python random' get MVP\n",
    "\n",
    "'''input'''\n",
    "guess_number = int(input())    \n",
    "'''choice'''    \n",
    "def guess():\n",
    "    if guess_number < right_number:\n",
    "        print (\"you guess\")\n",
    "        print (guess_number)\n",
    "        print (\"less than the right number\" )\n",
    "    elif 20 > guess_number > right_number:\n",
    "        print (\"you guess\")\n",
    "        print (guess_number)\n",
    "        print (\"more than the right number\" )\n",
    "    elif guess_number > 20:\n",
    "        print ('please input a integer less than 20')\n",
    "    else:\n",
    "        print ('Correct! Fantastic! see you!')\n",
    "        quit()\n",
    "# test\n",
    "for i in range(10):\n",
    "    guess()\n",
    "\n",
    "if __name__ == \"__main__\":\n",
    "    guess()"
   ]
  },
  {
   "cell_type": "code",
   "execution_count": 14,
   "metadata": {
    "collapsed": false
   },
   "outputs": [
    {
     "name": "stdout",
     "output_type": "stream",
     "text": [
      "3\n",
      "you guess\n",
      "3\n",
      "less than the right number\n",
      "you guess\n",
      "3\n",
      "less than the right number\n",
      "you guess\n",
      "3\n",
      "less than the right number\n",
      "you guess\n",
      "3\n",
      "less than the right number\n",
      "you guess\n",
      "3\n",
      "less than the right number\n",
      "you guess\n",
      "3\n",
      "less than the right number\n",
      "you guess\n",
      "3\n",
      "less than the right number\n",
      "you guess\n",
      "3\n",
      "less than the right number\n",
      "you guess\n",
      "3\n",
      "less than the right number\n",
      "you guess\n",
      "3\n",
      "less than the right number\n",
      "you guess\n",
      "3\n",
      "less than the right number\n"
     ]
    }
   ],
   "source": [
    "# not print 10 times.\n",
    "from itertools import repeat\n",
    "'''get a random number betwen 0 to 19'''\n",
    "import random\n",
    "\n",
    "right_number = random.randint(0,20)\n",
    "# google'python 生成随机数', get random, google' python random' get MVP\n",
    "\n",
    "'''input'''\n",
    "guess_number = int(input())    \n",
    "'''choice'''    \n",
    "def guess():\n",
    "    if guess_number < right_number:\n",
    "        print (\"you guess\")\n",
    "        print (guess_number)\n",
    "        print (\"less than the right number\" )\n",
    "    elif 20 > guess_number > right_number:\n",
    "        print (\"you guess\")\n",
    "        print (guess_number)\n",
    "        print (\"more than the right number\" )\n",
    "    elif guess_number > 20:\n",
    "        print ('please input a integer less than 20')\n",
    "    else:\n",
    "        print ('Correct! Fantastic! see you!')\n",
    "        quit()\n",
    "# test\n",
    "for i in repeat(None, 10):\n",
    "    guess()\n",
    "\n",
    "if __name__ == \"__main__\":\n",
    "    guess()\n",
    "\n",
    "\n"
   ]
  },
  {
   "cell_type": "code",
   "execution_count": 15,
   "metadata": {
    "collapsed": true
   },
   "outputs": [],
   "source": [
    "# not for in ?,  lknj use while, guesses = 0. guess ! = num: what's that mean?\n",
    "# dragon86yq [Py101-004/bulls_and_cows.py at master · dragon86yq/Py101-004](https://github.com/dragon86yq/Py101-004/blob/master/Chap0/project/bulls_and_cows.py) "
   ]
  },
  {
   "cell_type": "code",
   "execution_count": null,
   "metadata": {
    "collapsed": false
   },
   "outputs": [
    {
     "name": "stdout",
     "output_type": "stream",
     "text": [
      "10\n",
      "more than the right number\n",
      "5\n",
      "more than the right number\n",
      "3\n",
      "more than the right number\n",
      "2\n",
      "more than the right number\n",
      "1\n",
      "Correct! Fantastic! see you!\n",
      "7\n",
      "more than the right number\n",
      "3\n",
      "more than the right number\n",
      "2\n",
      "more than the right number\n",
      "9\n",
      "more than the right number\n",
      "10\n",
      "more than the right number\n",
      "sorry, the correct number is 1\n"
     ]
    }
   ],
   "source": [
    "\n",
    "'''get a random number betwen 0 to 19'''\n",
    "import random\n",
    "right_number = random.randint(0,20)\n",
    "\n",
    "# google'python 生成随机数', get random, google' python random' get MVP\n",
    "\n",
    "for i in range(0,10):\n",
    "\n",
    "    '''input'''\n",
    "    guess_number = int(input())    \n",
    "    '''choice'''    \n",
    "    if guess_number < right_number:\n",
    "        print (\"less than the right number\" )\n",
    "    elif 20 > guess_number > right_number:\n",
    "        print (\"more than the right number\" )\n",
    "    elif guess_number > 20:\n",
    "        print ('please input a integer less than 20')\n",
    "    else:\n",
    "        print ('Correct! Fantastic! see you!')\n",
    "        exit()\n",
    "print ('sorry, the correct number is %d'%right_number)\n"
   ]
  },
  {
   "cell_type": "code",
   "execution_count": null,
   "metadata": {
    "collapsed": false
   },
   "outputs": [
    {
     "name": "stdout",
     "output_type": "stream",
     "text": [
      "10\n",
      "more than the right number\n",
      "5\n",
      "more than the right number\n",
      "3\n",
      "less than the right number\n",
      "4\n",
      "Correct! Fantastic! see you!\n",
      "15\n",
      "more than the right number\n",
      "16\n",
      "more than the right number\n",
      "18\n",
      "more than the right number\n",
      "18\n",
      "more than the right number\n",
      "19\n",
      "more than the right number\n",
      "20\n",
      "Correct! Fantastic! see you!\n",
      "sorry, the correct number is 4\n"
     ]
    }
   ],
   "source": [
    "\n",
    "'''get a random number betwen 0 to 19'''\n",
    "import random\n",
    "right_number = random.randint(0,20)\n",
    "\n",
    "# google'python 生成随机数', get random, google' python random' get MVP\n",
    "\n",
    "for i in range(0,10):\n",
    "\n",
    "    '''input'''\n",
    "    guess_number = int(input())    \n",
    "    '''choice'''    \n",
    "    if guess_number < right_number:\n",
    "        print (\"less than the right number\" )\n",
    "    elif 20 > guess_number > right_number:\n",
    "        print (\"more than the right number\" )\n",
    "    elif guess_number > 20:\n",
    "        print ('please input a integer less than 20')\n",
    "    else:\n",
    "        print ('Correct! Fantastic! see you!')\n",
    "        exit(0)\n",
    "print ('sorry, the correct number is %d'%right_number)"
   ]
  },
  {
   "cell_type": "code",
   "execution_count": 1,
   "metadata": {
    "collapsed": true
   },
   "outputs": [],
   "source": [
    "# bug, not exit."
   ]
  },
  {
   "cell_type": "code",
   "execution_count": null,
   "metadata": {
    "collapsed": false
   },
   "outputs": [
    {
     "name": "stdout",
     "output_type": "stream",
     "text": [
      "10\n",
      "more than the right number\n",
      "5\n",
      "Correct! Fantastic! see you!\n"
     ]
    }
   ],
   "source": [
    "\n",
    "'''get a random number betwen 0 to 19'''\n",
    "import random\n",
    "right_number = random.randint(0,20)\n",
    "\n",
    "# google'python 生成随机数', get random, google' python random' get MVP\n",
    "\n",
    "for i in range(0,10):\n",
    "\n",
    "    '''input'''\n",
    "    guess_number = int(input())    \n",
    "    '''choice'''    \n",
    "    if guess_number < right_number:\n",
    "        print (\"less than the right number\" )\n",
    "    elif 20 > guess_number > right_number:\n",
    "        print (\"more than the right number\" )\n",
    "    elif guess_number > 20:\n",
    "        print ('please input a integer less than 20')\n",
    "    else:\n",
    "        print ('Correct! Fantastic! see you!')\n",
    "        quit()\n",
    "print ('sorry, the correct number is %d'%right_number)"
   ]
  },
  {
   "cell_type": "code",
   "execution_count": 1,
   "metadata": {
    "collapsed": false
   },
   "outputs": [
    {
     "name": "stdout",
     "output_type": "stream",
     "text": [
      "10\n",
      "more than the right number\n",
      "5\n",
      "less than the right number\n",
      "7\n",
      "more than the right number\n",
      "6\n",
      "Correct! Fantastic! see you!\n",
      "sorry, the correct number is 6\n"
     ]
    }
   ],
   "source": [
    "\n",
    "'''get a random number betwen 0 to 19'''\n",
    "import random\n",
    "right_number = random.randint(0,20)\n",
    "\n",
    "# google'python 生成随机数', get random, google' python random' get MVP\n",
    "\n",
    "for i in range(0,10):\n",
    "\n",
    "    '''input'''\n",
    "    guess_number = int(input())    \n",
    "    '''choice'''    \n",
    "    if guess_number < right_number:\n",
    "        print (\"less than the right number\" )\n",
    "    elif 20 > guess_number > right_number:\n",
    "        print (\"more than the right number\" )\n",
    "    elif guess_number > 20:\n",
    "        print ('please input a integer less than 20')\n",
    "    else:\n",
    "        print ('Correct! Fantastic! see you!')\n",
    "        break\n",
    "print ('sorry, the correct number is %d'%right_number)"
   ]
  },
  {
   "cell_type": "markdown",
   "metadata": {
    "collapsed": true
   },
   "source": [
    "- in cli, there show ValueError: invalid literal for int() with base 10: ''\n",
    "- beacuse I didn't give input a remind. so I didn't put number in it. "
   ]
  },
  {
   "cell_type": "code",
   "execution_count": null,
   "metadata": {
    "collapsed": false
   },
   "outputs": [
    {
     "name": "stdout",
     "output_type": "stream",
     "text": [
      ">>10\n",
      "more than the right number\n",
      ">>5\n",
      "more than the right number\n",
      ">>3\n",
      "more than the right number\n",
      ">>2\n",
      "more than the right number\n",
      ">>1\n",
      "Correct! Fantastic! see you!\n"
     ]
    }
   ],
   "source": [
    "'''get a random number betwen 0 to 19'''\n",
    "import random\n",
    "right_number = random.randint(0,20)\n",
    "\n",
    "# google'python 生成随机数', get random, google' python random' get MVP\n",
    "\n",
    "for i in range(0,10):\n",
    "\n",
    "    '''input'''\n",
    "    guess_number = int(input('>>'))    \n",
    "    '''choice'''    \n",
    "    if guess_number < right_number:\n",
    "        print (\"less than the right number\" )\n",
    "    elif 20 > guess_number > right_number:\n",
    "        print (\"more than the right number\" )\n",
    "    elif guess_number > 20:\n",
    "        print ('please input a integer less than 20')\n",
    "    else:\n",
    "        print ('Correct! Fantastic! see you!')\n",
    "        break\n",
    "print ('sorry, the correct number is %d'%right_number)"
   ]
  },
  {
   "cell_type": "code",
   "execution_count": null,
   "metadata": {
    "collapsed": false
   },
   "outputs": [
    {
     "name": "stdout",
     "output_type": "stream",
     "text": [
      "\n",
      "       game rules:\n",
      "       We will choose a random integer less than 20, \n",
      "       you have 10 times to guess,\n",
      "       the less time, the better~\n",
      "       \n"
     ]
    }
   ],
   "source": [
    "'''add introduciton'''\n",
    "'''get a random number betwen 0 to 19'''\n",
    "import random\n",
    "right_number = random.randint(0,20)\n",
    "\n",
    "# google'python 生成随机数', get random, google' python random' get MVP\n",
    "\n",
    "''' print introduction'''\n",
    "print ('''\n",
    "       game rules:\n",
    "       We will choose a random integer less than 20, \n",
    "       you have 10 times to guess,\n",
    "       the less time, the better~\n",
    "       ''')\n",
    "\n",
    "'''10 times loop'''\n",
    "for i in range(0,10):\n",
    "\n",
    "    '''input'''\n",
    "    guess_number = int(input('>>'))    \n",
    "    '''choice'''    \n",
    "    if guess_number < right_number:\n",
    "        print (\"less than the right number\" )\n",
    "    elif 20 > guess_number > right_number:\n",
    "        print (\"more than the right number\" )\n",
    "    elif guess_number > 20:\n",
    "        print ('please input a integer less than 20')\n",
    "    else:\n",
    "        print ('Correct! Fantastic! see you!')\n",
    "        break\n",
    "print ('sorry, the correct number is %d'%right_number)"
   ]
  },
  {
   "cell_type": "code",
   "execution_count": 2,
   "metadata": {
    "collapsed": false
   },
   "outputs": [
    {
     "ename": "SyntaxError",
     "evalue": "invalid syntax (<ipython-input-2-4e9f4aca9a31>, line 27)",
     "output_type": "error",
     "traceback": [
      "\u001b[0;36m  File \u001b[0;32m\"<ipython-input-2-4e9f4aca9a31>\"\u001b[0;36m, line \u001b[0;32m27\u001b[0m\n\u001b[0;31m    else guess_number > 20:\u001b[0m\n\u001b[0m                    ^\u001b[0m\n\u001b[0;31mSyntaxError\u001b[0m\u001b[0;31m:\u001b[0m invalid syntax\n"
     ]
    }
   ],
   "source": [
    "''' bug: not stop in jupyter, until 10 times. stop in cli, but print sorry also.'''\n",
    "'''add introduciton'''\n",
    "'''get a random number betwen 0 to 19'''\n",
    "import random\n",
    "right_number = random.randint(0,20)\n",
    "\n",
    "# google'python 生成随机数', get random, google' python random' get MVP\n",
    "\n",
    "''' print introduction'''\n",
    "print ('''\n",
    "       game rules:\n",
    "       We will choose a random integer less than 20, \n",
    "       you have 10 times to guess,\n",
    "       the less time, the better~\n",
    "       ''')\n",
    "\n",
    "'''10 times loop'''\n",
    "for i in range(0,10):\n",
    "\n",
    "    '''input'''\n",
    "    guess_number = int(input('>>'))    \n",
    "    '''choice'''    \n",
    "    if guess_number < right_number:\n",
    "        print (\"less than the right number\" )\n",
    "    elif 20 > guess_number > right_number:\n",
    "        print (\"more than the right number\" )\n",
    "    else guess_number > 20:\n",
    "        print ('please input a integer less than 20')\n",
    "\n",
    "print ('the correct number is %d'%right_number)"
   ]
  },
  {
   "cell_type": "code",
   "execution_count": 4,
   "metadata": {
    "collapsed": false
   },
   "outputs": [
    {
     "name": "stdout",
     "output_type": "stream",
     "text": [
      "\n",
      "       game rules:\n",
      "       We will choose a random integer less than 20, \n",
      "       you have 10 times to guess,\n",
      "       the less time, the better~\n",
      "       \n",
      ">>10\n",
      "more than the right number\n",
      ">>5\n",
      "less than the right number\n",
      ">>7\n",
      "less than the right number\n",
      ">>9\n",
      "more than the right number\n",
      ">>8\n",
      "Correct! Fantastic! see you!\n",
      "the correct number is 8\n"
     ]
    }
   ],
   "source": [
    "'''add introduciton'''\n",
    "'''get a random number betwen 0 to 19'''\n",
    "import random\n",
    "right_number = random.randint(0,20)\n",
    "\n",
    "# google'python 生成随机数', get random, google' python random' get MVP\n",
    "\n",
    "''' print introduction'''\n",
    "print ('''\n",
    "       game rules:\n",
    "       We will choose a random integer less than 20, \n",
    "       you have 10 times to guess,\n",
    "       the less time, the better~\n",
    "       ''')\n",
    "\n",
    "'''10 times loop'''\n",
    "for i in range(0,10):\n",
    "\n",
    "    '''input'''\n",
    "    guess_number = int(input('>>'))    \n",
    "    '''choice'''    \n",
    "    if guess_number < right_number:\n",
    "        print (\"less than the right number\" )\n",
    "    elif 20 > guess_number > right_number:\n",
    "        print (\"more than the right number\" )\n",
    "    elif guess_number > 20:\n",
    "        print ('please input a integer less than 20')\n",
    "    else:\n",
    "        print ('Correct! Fantastic! see you!')\n",
    "        break\n",
    "print ('the correct number is %d'%right_number)"
   ]
  },
  {
   "cell_type": "code",
   "execution_count": null,
   "metadata": {
    "collapsed": true
   },
   "outputs": [],
   "source": []
  }
 ],
 "metadata": {
  "anaconda-cloud": {},
  "kernelspec": {
   "display_name": "Python [conda root]",
   "language": "python",
   "name": "conda-root-py"
  },
  "language_info": {
   "codemirror_mode": {
    "name": "ipython",
    "version": 3
   },
   "file_extension": ".py",
   "mimetype": "text/x-python",
   "name": "python",
   "nbconvert_exporter": "python",
   "pygments_lexer": "ipython3",
   "version": "3.5.2"
  }
 },
 "nbformat": 4,
 "nbformat_minor": 1
}
